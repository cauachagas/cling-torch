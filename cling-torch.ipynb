{
 "cells": [
  {
   "cell_type": "raw",
   "metadata": {},
   "source": [
    "Suponho que a instalação do Miniconda está em $HOME, então basta usar como a seguir. Do contrário, deve ajustar de acordo."
   ]
  },
  {
   "cell_type": "code",
   "execution_count": null,
   "metadata": {},
   "outputs": [],
   "source": [
    "#pragma cling add_include_path(\"$HOME/miniconda3/envs/cling-torch/lib/python3.7/site-packages/torch/include\")\n",
    "#pragma cling add_include_path(\"$HOME/miniconda3/envs/cling-torch/lib/python3.7/site-packages/torch/include/torch/csrc/api/include\")\n",
    "#pragma cling add_library_path(\"$HOME/miniconda3/envs/cling-torch/lib/python3.7/site-packages/torch/lib\")\n",
    "#pragma cling load(\"libtorch\")"
   ]
  },
  {
   "cell_type": "code",
   "execution_count": null,
   "metadata": {},
   "outputs": [],
   "source": [
    "#include <ATen/ATen.h>\n",
    "\n",
    "at::Tensor a = at::ones({2, 2}, at::kInt);\n",
    "at::Tensor b = at::randn({2, 2});\n",
    "auto c = a + b.to(at::kInt);\n",
    "\n",
    "std::cout << \"a: \" << a << std::endl;\n",
    "std::cout << std::endl;\n",
    "std::cout << \"b: \" << b << std::endl;\n",
    "std::cout << std::endl;\n",
    "std::cout << \"c: \" << c << std::endl;"
   ]
  },
  {
   "cell_type": "code",
   "execution_count": null,
   "metadata": {},
   "outputs": [],
   "source": [
    "#include <torch/torch.h>\n",
    "#include <torch/csrc/autograd/variable.h>\n",
    "#include <torch/csrc/autograd/function.h>\n",
    "\n",
    "torch::Tensor a_tensor = torch::ones({2, 2}, torch::requires_grad());\n",
    "torch::Tensor b_tensor = torch::randn({2, 2});\n",
    "\n",
    "std::cout << a_tensor << std::endl;\n",
    "std::cout << b_tensor << std::endl;\n",
    "\n",
    "auto c_tensor = a_tensor + b_tensor;\n",
    "c_tensor.backward(); // a.grad() will now hold the gradient of c w.r.t a\n",
    "\n",
    "std::cout << c_tensor << std::endl;"
   ]
  },
  {
   "cell_type": "code",
   "execution_count": null,
   "metadata": {},
   "outputs": [],
   "source": []
  }
 ],
 "metadata": {
  "kernelspec": {
   "display_name": "C++17",
   "language": "C++17",
   "name": "xcpp17"
  },
  "language_info": {
   "codemirror_mode": "text/x-c++src",
   "file_extension": ".cpp",
   "mimetype": "text/x-c++src",
   "name": "c++",
   "version": "17"
  }
 },
 "nbformat": 4,
 "nbformat_minor": 4
}
